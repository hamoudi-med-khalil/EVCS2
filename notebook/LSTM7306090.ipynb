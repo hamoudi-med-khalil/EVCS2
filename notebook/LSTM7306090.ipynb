{
 "cells": [
  {
   "cell_type": "code",
   "execution_count": 12,
   "id": "0f168bdb",
   "metadata": {},
   "outputs": [
    {
     "name": "stderr",
     "output_type": "stream",
     "text": [
      "c:\\Users\\KHALIL\\anaconda3\\envs\\evforecast\\lib\\site-packages\\keras\\src\\layers\\rnn\\rnn.py:199: UserWarning: Do not pass an `input_shape`/`input_dim` argument to a layer. When using Sequential models, prefer using an `Input(shape)` object as the first layer in the model instead.\n",
      "  super().__init__(**kwargs)\n"
     ]
    },
    {
     "name": "stdout",
     "output_type": "stream",
     "text": [
      "\u001b[1m9/9\u001b[0m \u001b[32m━━━━━━━━━━━━━━━━━━━━\u001b[0m\u001b[37m\u001b[0m \u001b[1m0s\u001b[0m 27ms/step\n"
     ]
    },
    {
     "name": "stderr",
     "output_type": "stream",
     "text": [
      "c:\\Users\\KHALIL\\anaconda3\\envs\\evforecast\\lib\\site-packages\\keras\\src\\layers\\rnn\\rnn.py:199: UserWarning: Do not pass an `input_shape`/`input_dim` argument to a layer. When using Sequential models, prefer using an `Input(shape)` object as the first layer in the model instead.\n",
      "  super().__init__(**kwargs)\n"
     ]
    },
    {
     "name": "stdout",
     "output_type": "stream",
     "text": [
      "\u001b[1m9/9\u001b[0m \u001b[32m━━━━━━━━━━━━━━━━━━━━\u001b[0m\u001b[37m\u001b[0m \u001b[1m0s\u001b[0m 31ms/step\n"
     ]
    },
    {
     "name": "stderr",
     "output_type": "stream",
     "text": [
      "c:\\Users\\KHALIL\\anaconda3\\envs\\evforecast\\lib\\site-packages\\keras\\src\\layers\\rnn\\rnn.py:199: UserWarning: Do not pass an `input_shape`/`input_dim` argument to a layer. When using Sequential models, prefer using an `Input(shape)` object as the first layer in the model instead.\n",
      "  super().__init__(**kwargs)\n"
     ]
    },
    {
     "name": "stdout",
     "output_type": "stream",
     "text": [
      "\u001b[1m9/9\u001b[0m \u001b[32m━━━━━━━━━━━━━━━━━━━━\u001b[0m\u001b[37m\u001b[0m \u001b[1m1s\u001b[0m 50ms/step\n"
     ]
    },
    {
     "name": "stderr",
     "output_type": "stream",
     "text": [
      "c:\\Users\\KHALIL\\anaconda3\\envs\\evforecast\\lib\\site-packages\\keras\\src\\layers\\rnn\\rnn.py:199: UserWarning: Do not pass an `input_shape`/`input_dim` argument to a layer. When using Sequential models, prefer using an `Input(shape)` object as the first layer in the model instead.\n",
      "  super().__init__(**kwargs)\n"
     ]
    },
    {
     "name": "stdout",
     "output_type": "stream",
     "text": [
      "\u001b[1m9/9\u001b[0m \u001b[32m━━━━━━━━━━━━━━━━━━━━\u001b[0m\u001b[37m\u001b[0m \u001b[1m1s\u001b[0m 47ms/step\n",
      "\n",
      "📊 Forecasting Metrics Summary:\n",
      "\n",
      "Horizon     RMSE      MAE      MSE\n",
      " 7 days 0.210356 0.175177 0.044250\n",
      "30 days 0.183317 0.146757 0.033605\n",
      "60 days 0.221195 0.178453 0.048927\n",
      "90 days 0.202551 0.152275 0.041027\n"
     ]
    },
    {
     "data": {
      "image/png": "[encoded data removed]",
      "text/plain": [
       "<Figure size 800x500 with 1 Axes>"
      ]
     },
     "metadata": {},
     "output_type": "display_data"
    }
   ],
   "source": [
    "import pandas as pd\n",
    "import numpy as np\n",
    "from sklearn.preprocessing import MinMaxScaler\n",
    "from sklearn.metrics import mean_squared_error, mean_absolute_error\n",
    "from tensorflow.keras.models import Sequential\n",
    "from tensorflow.keras.layers import LSTM, Dense, Dropout\n",
    "from tensorflow.keras.optimizers import RMSprop\n",
    "import matplotlib.pyplot as plt\n",
    "\n",
    "# --- Load & preprocess data ---\n",
    "df = pd.read_csv(\"../data/ev_energy_with_weather.csv\")\n",
    "df['date'] = pd.to_datetime(df['date'])\n",
    "df = df[df['date'] <= '2021-12-28'].copy()\n",
    "df.drop(columns=['snow_depth', 't_max', 't_min'], inplace=True)\n",
    "df['weekend'] = (df['date'].dt.dayofweek >= 5).astype(int)\n",
    "df['energy'] = df['energy'].rolling(window=3, min_periods=1).mean()\n",
    "z_scores = ((df['energy'] - df['energy'].mean()) / df['energy'].std()).abs()\n",
    "df = df[z_scores < 3].reset_index(drop=True)\n",
    "\n",
    "# --- Lag features ---\n",
    "df['energy_t-1'] = df['energy'].shift(1)\n",
    "df['energy_t-2'] = df['energy'].shift(2)\n",
    "df['energy_t-3'] = df['energy'].shift(3)\n",
    "df['energy_t-7'] = df['energy'].shift(7)\n",
    "df['rolling_std_7'] = df['energy'].rolling(window=7, min_periods=1).std().fillna(0)\n",
    "df.dropna(inplace=True)\n",
    "df.reset_index(drop=True, inplace=True)\n",
    "\n",
    "# --- Feature list ---\n",
    "features = ['snow', 'weekend', 'energy', 'energy_t-1', 'energy_t-2', 'energy_t-3', 'energy_t-7', 'rolling_std_7']\n",
    "\n",
    "# --- Create sequences function ---\n",
    "def create_sequences(data, lookback, horizon, features):\n",
    "    X, y = [], []\n",
    "    for i in range(len(data) - lookback - horizon + 1):\n",
    "        X_seq = data[features].iloc[i:i+lookback].values\n",
    "        y_seq = data['energy'].iloc[i+lookback:i+lookback+horizon].values\n",
    "        X.append(X_seq)\n",
    "        y.append(y_seq)\n",
    "    return np.array(X), np.array(y)\n",
    "\n",
    "# --- Run for multiple forecast horizons ---\n",
    "lookback = 30\n",
    "results = []\n",
    "\n",
    "for horizon in [7, 30, 60, 90]:\n",
    "    X_raw, y_raw = create_sequences(df, lookback, horizon, features)\n",
    "    split = int(len(X_raw) * 0.8)\n",
    "    X_train_raw, y_train_raw = X_raw[:split], y_raw[:split]\n",
    "    X_test_raw, y_test_raw = X_raw[split:], y_raw[split:]\n",
    "    \n",
    "    # Normalize features\n",
    "    X_train_flat = X_train_raw.reshape(-1, len(features))\n",
    "    X_test_flat = X_test_raw.reshape(-1, len(features))\n",
    "    x_scaler = MinMaxScaler()\n",
    "    X_train_scaled = x_scaler.fit_transform(X_train_flat)\n",
    "    X_test_scaled = x_scaler.transform(X_test_flat)\n",
    "    X_train = X_train_scaled.reshape(X_train_raw.shape)\n",
    "    X_test = X_test_scaled.reshape(X_test_raw.shape)\n",
    "\n",
    "    # Normalize targets\n",
    "    y_scaler = MinMaxScaler()\n",
    "    y_train = y_scaler.fit_transform(y_train_raw)\n",
    "    y_test = y_scaler.transform(y_test_raw)\n",
    "\n",
    "    # LSTM model\n",
    "    model = Sequential()\n",
    "    model.add(LSTM(128, input_shape=(lookback, len(features))))\n",
    "    model.add(Dropout(0.05))\n",
    "    model.add(Dense(horizon))\n",
    "    model.compile(optimizer=RMSprop(learning_rate=0.0005), loss='mse')\n",
    "    model.fit(X_train, y_train, epochs=100, batch_size=32, verbose=0)\n",
    "\n",
    "    # Evaluate\n",
    "    y_pred = model.predict(X_test)\n",
    "    rmse = np.sqrt(mean_squared_error(y_test, y_pred))\n",
    "    mae = mean_absolute_error(y_test, y_pred)\n",
    "    mse = mean_squared_error(y_test, y_pred)\n",
    "    results.append({'Horizon': f'{horizon} days', 'RMSE': rmse, 'MAE': mae, 'MSE': mse})\n",
    "\n",
    "# --- Display results ---\n",
    "results_df = pd.DataFrame(results)\n",
    "print(\"\\n📊 Forecasting Metrics Summary:\\n\")\n",
    "print(results_df.to_string(index=False))\n",
    "\n",
    "# --- Optional: bar plot for RMSE ---\n",
    "plt.figure(figsize=(8, 5))\n",
    "plt.bar(results_df['Horizon'], results_df['RMSE'], color='skyblue')\n",
    "plt.title(\"Normalized RMSE per Forecast Horizon\")\n",
    "plt.xlabel(\"Forecast Horizon\")\n",
    "plt.ylabel(\"RMSE\")\n",
    "plt.grid(axis='y')\n",
    "plt.tight_layout()\n",
    "plt.show()\n"
   ]
  },
  {
   "cell_type": "code",
   "execution_count": null,
   "id": "61635a0f",
   "metadata": {},
   "outputs": [],
   "source": []
  },
  {
   "cell_type": "code",
   "execution_count": 9,
   "id": "4ec61a36",
   "metadata": {},
   "outputs": [
    {
     "data": {
      "text/plain": [
       "Index(['date', 'energy', 't_max', 't_min', 'precip', 'snow', 'weekend',\n",
       "       'energy_t-1', 'energy_t-2', 'energy_t-3', 'energy_t-7',\n",
       "       'rolling_std_7'],\n",
       "      dtype='object')"
      ]
     },
     "execution_count": 9,
     "metadata": {},
     "output_type": "execute_result"
    }
   ],
   "source": [
    "df.columns"
   ]
  },
  {
   "cell_type": "code",
   "execution_count": 13,
   "id": "8ed5ed4d",
   "metadata": {},
   "outputs": [],
   "source": [
    "# import pandas as pd\n",
    "# import numpy as np\n",
    "# from sklearn.preprocessing import MinMaxScaler\n",
    "# from sklearn.metrics import mean_squared_error, mean_absolute_error\n",
    "# from tensorflow.keras.models import Sequential\n",
    "# from tensorflow.keras.layers import LSTM, Dense, Dropout\n",
    "# from tensorflow.keras.optimizers import Adam, RMSprop\n",
    "# from tensorflow.keras.losses import MeanSquaredError, Huber\n",
    "# from tensorflow.keras.callbacks import EarlyStopping\n",
    "\n",
    "# # --- Preprocessing & Model Functions ---\n",
    "# def preprocess_data(df, rolling_window):\n",
    "#     df['energy'] = df['energy'].rolling(window=rolling_window, min_periods=1).mean()\n",
    "#     z_scores = ((df['energy'] - df['energy'].mean()) / df['energy'].std()).abs()\n",
    "#     df = df[z_scores < 3].reset_index(drop=True)\n",
    "#     df['energy_t-1'] = df['energy'].shift(1)\n",
    "#     df['energy_t-2'] = df['energy'].shift(2)\n",
    "#     df['energy_t-3'] = df['energy'].shift(3)\n",
    "#     df['energy_t-7'] = df['energy'].shift(7)\n",
    "#     df['rolling_std_7'] = df['energy'].rolling(window=7, min_periods=1).std().fillna(0)\n",
    "#     df.dropna(inplace=True)\n",
    "#     df.reset_index(drop=True, inplace=True)\n",
    "#     return df\n",
    "\n",
    "# def create_sequences(data, lookback, horizon, features):\n",
    "#     X, y = [], []\n",
    "#     for i in range(len(data) - lookback - horizon + 1):\n",
    "#         X_seq = data[features].iloc[i:i+lookback].values\n",
    "#         y_seq = data['energy'].iloc[i+lookback:i+lookback+horizon].values\n",
    "#         X.append(X_seq)\n",
    "#         y.append(y_seq)\n",
    "#     return np.array(X), np.array(y)\n",
    "\n",
    "# def build_model(input_shape, horizon, optimizer_type, loss_type):\n",
    "#     model = Sequential()\n",
    "#     model.add(LSTM(128, input_shape=input_shape))\n",
    "#     model.add(Dropout(0.2))\n",
    "#     model.add(Dense(horizon))\n",
    "    \n",
    "#     optimizer = Adam(learning_rate=0.0003) if optimizer_type == 'adam' else RMSprop(learning_rate=0.0005)\n",
    "#     loss = Huber() if loss_type == 'huber' else MeanSquaredError()\n",
    "    \n",
    "#     model.compile(optimizer=optimizer, loss=loss)\n",
    "#     return model\n",
    "\n",
    "# def evaluate_model(df, lookback, horizon, features, optimizer_type, loss_type, batch_size, rolling_window):\n",
    "#     df_processed = preprocess_data(df.copy(), rolling_window)\n",
    "#     scaler = MinMaxScaler()\n",
    "#     df_processed['energy'] = scaler.fit_transform(df_processed[['energy']])\n",
    "    \n",
    "#     X_raw, y_raw = create_sequences(df_processed, lookback, horizon, features)\n",
    "#     split = int(len(X_raw) * 0.8)\n",
    "#     X_train_raw, y_train_raw = X_raw[:split], y_raw[:split]\n",
    "#     X_test_raw, y_test_raw = X_raw[split:], y_raw[split:]\n",
    "    \n",
    "#     X_train_flat = X_train_raw.reshape(-1, len(features))\n",
    "#     X_test_flat = X_test_raw.reshape(-1, len(features))\n",
    "#     x_scaler = MinMaxScaler()\n",
    "#     X_train_scaled = x_scaler.fit_transform(X_train_flat)\n",
    "#     X_test_scaled = x_scaler.transform(X_test_flat)\n",
    "#     X_train = X_train_scaled.reshape(X_train_raw.shape)\n",
    "#     X_test = X_test_scaled.reshape(X_test_raw.shape)\n",
    "    \n",
    "#     y_scaler = MinMaxScaler()\n",
    "#     y_train = y_scaler.fit_transform(y_train_raw)\n",
    "#     y_test = y_scaler.transform(y_test_raw)\n",
    "    \n",
    "#     model = build_model((lookback, len(features)), horizon, optimizer_type, loss_type)\n",
    "#     early_stop = EarlyStopping(monitor='val_loss', patience=10, restore_best_weights=True)\n",
    "#     model.fit(X_train, y_train, epochs=200, batch_size=batch_size, validation_split=0.1, callbacks=[early_stop], verbose=0)\n",
    "    \n",
    "#     y_pred = model.predict(X_test)\n",
    "#     rmse = np.sqrt(mean_squared_error(y_test, y_pred))\n",
    "#     mae = mean_absolute_error(y_test, y_pred)\n",
    "#     mse = mean_squared_error(y_test, y_pred)\n",
    "#     return rmse, mae, mse\n",
    "\n",
    "# # --- Load and Prepare Dataset ---\n",
    "# df_base = pd.read_csv(\"../data/ev_energy_with_weather.csv\")\n",
    "# df_base['date'] = pd.to_datetime(df_base['date'])\n",
    "# df_base = df_base[df_base['date'] <= '2021-12-28'].copy()\n",
    "# df_base.drop(columns=['snow_depth'], inplace=True)\n",
    "# df_base['weekend'] = (df_base['date'].dt.dayofweek >= 5).astype(int)\n",
    "\n",
    "# # --- Grid Search Parameters ---\n",
    "# lookback = 30\n",
    "# horizon = 7\n",
    "# features = ['snow', 'weekend', 'energy_t-1', 'energy_t-2', 'energy_t-3', 'energy_t-7', 'rolling_std_7']\n",
    "# rolling_windows = [1, 3, 5, 7]\n",
    "# batch_sizes = [16, 32, 64]\n",
    "# optimizers = ['adam', 'rmsprop']\n",
    "# losses = ['mse', 'huber']\n",
    "\n",
    "# # --- Grid Search Execution ---\n",
    "# results = []\n",
    "# for roll in rolling_windows:\n",
    "#     for batch in batch_sizes:\n",
    "#         for opt in optimizers:\n",
    "#             for loss in losses:\n",
    "#                 rmse, mae, mse = evaluate_model(df_base, lookback, horizon, features, opt, loss, batch, roll)\n",
    "#                 results.append({\n",
    "#                     'Rolling': roll, 'Batch': batch, 'Optimizer': opt, 'Loss': loss,\n",
    "#                     'RMSE': rmse, 'MAE': mae, 'MSE': mse\n",
    "#                 })\n",
    "\n",
    "# # --- Display Top 10 Configurations ---\n",
    "# results_df = pd.DataFrame(results).sort_values(by='RMSE').reset_index(drop=True)\n",
    "# print(\"\\n🔍 Top 10 LSTM Configurations for K=7 (Sorted by RMSE):\\n\")\n",
    "# print(results_df.head(10).to_string(index=False))\n"
   ]
  }
 ],
 "metadata": {
  "kernelspec": {
   "display_name": "evforecast",
   "language": "python",
   "name": "python3"
  },
  "language_info": {
   "codemirror_mode": {
    "name": "ipython",
    "version": 3
   },
   "file_extension": ".py",
   "mimetype": "text/x-python",
   "name": "python",
   "nbconvert_exporter": "python",
   "pygments_lexer": "ipython3",
   "version": "3.9.23"
  }
 },
 "nbformat": 4,
 "nbformat_minor": 5
}
